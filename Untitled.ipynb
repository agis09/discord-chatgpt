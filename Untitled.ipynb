{
 "cells": [
  {
   "cell_type": "code",
   "execution_count": null,
   "id": "15555ef7-df60-463e-853b-b17a0be4d5c4",
   "metadata": {
    "jp-MarkdownHeadingCollapsed": true,
    "tags": []
   },
   "outputs": [],
   "source": [
    "import sys\n",
    "import os\n",
    "import openai\n",
    "\n",
    "openai.api_key = os.environ['API_KEY']\n",
    "# model_engine = \"gpt-3.5-turbo\"\n",
    "model_engine = \"gpt-4-0314\"\n",
    "\n",
    "\n",
    "def ask(messages):\n",
    "    response = openai.ChatCompletion.create(\n",
    "        model=model_engine,\n",
    "        messages=messages,\n",
    "        temperature=0.7,\n",
    "        stream=True\n",
    "\n",
    "    )\n",
    "    # answer = response['choices'][0]['message']['content']\n",
    "    response_text = \"\"\n",
    "    for chunk in response:\n",
    "        if chunk:\n",
    "            content = chunk['choices'][0]['delta'].get('content')\n",
    "            if content:\n",
    "                response_text += content\n",
    "                yield content\n",
    "    else:  #\n",
    "        messages.append({'role': 'assistant', 'content': response_text})\n",
    "    return messages\n",
    "\n",
    "\n",
    "messages = [\n",
    "    {\"role\": \"user\", \"content\": \"あなたは優秀なエンジニアです。私の出す要件を満たすpythonのソースコードを出力してください。可能な限り正しい回答をしてください。わからない場合はその旨を述べてください。要件が不足している場合は質問をしてください。\"}\n",
    "]\n",
    "answer = ask(messages)\n",
    "messages.append(\n",
    "    {\"role\": \"assistant\", \"content\": f\"{answer}\"}\n",
    ")\n",
    "for talk in ask(messages):\n",
    "    sys.stdout.flush()\n",
    "    print(talk, end='')\n",
    "\n",
    "while True:\n",
    "    print(\"=======\\n\")\n",
    "    question = input(\"入力(qで終了) :\")\n",
    "    if question == \"q\":\n",
    "        break\n",
    "    messages.append({\"role\": \"user\", \"content\": f\"{question}\"})\n",
    "    for talk in ask(messages):\n",
    "        sys.stdout.flush()\n",
    "        print(talk, end='')\n"
   ]
  },
  {
   "cell_type": "code",
   "execution_count": null,
   "id": "b0493120-007b-4f81-a98d-5b640c3904f6",
   "metadata": {},
   "outputs": [],
   "source": []
  },
  {
   "cell_type": "code",
   "execution_count": null,
   "id": "d765d67d-cd3b-401a-8e59-e3bf62587653",
   "metadata": {},
   "outputs": [],
   "source": []
  }
 ],
 "metadata": {
  "kernelspec": {
   "display_name": "Python 3 (ipykernel)",
   "language": "python",
   "name": "python3"
  },
  "language_info": {
   "codemirror_mode": {
    "name": "ipython",
    "version": 3
   },
   "file_extension": ".py",
   "mimetype": "text/x-python",
   "name": "python",
   "nbconvert_exporter": "python",
   "pygments_lexer": "ipython3",
   "version": "3.10.1"
  },
  "vscode": {
   "interpreter": {
    "hash": "6e0d46368f301118ef48a06dd14a90d65ad83901af52994b05e1006069ff9862"
   }
  }
 },
 "nbformat": 4,
 "nbformat_minor": 5
}
